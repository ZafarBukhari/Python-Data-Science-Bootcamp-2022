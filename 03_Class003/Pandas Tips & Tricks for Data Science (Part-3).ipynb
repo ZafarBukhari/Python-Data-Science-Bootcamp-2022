{
 "cells": [
  {
   "cell_type": "markdown",
   "id": "42058421",
   "metadata": {},
   "source": [
    "# <font color=\"Red\" size=\"8\"><center>Pandas Tips & Tricks<br>( Part-3 )</center></font>"
   ]
  },
  {
   "cell_type": "markdown",
   "id": "54f42f30",
   "metadata": {},
   "source": [
    "# <font color=\"Green\">1- How to Copy Data from Clip Board?</font>"
   ]
  },
  {
   "cell_type": "code",
   "execution_count": null,
   "id": "81bffa12",
   "metadata": {},
   "outputs": [],
   "source": []
  }
 ],
 "metadata": {
  "kernelspec": {
   "display_name": "Python 3 (ipykernel)",
   "language": "python",
   "name": "python3"
  },
  "language_info": {
   "codemirror_mode": {
    "name": "ipython",
    "version": 3
   },
   "file_extension": ".py",
   "mimetype": "text/x-python",
   "name": "python",
   "nbconvert_exporter": "python",
   "pygments_lexer": "ipython3",
   "version": "3.10.5"
  }
 },
 "nbformat": 4,
 "nbformat_minor": 5
}
